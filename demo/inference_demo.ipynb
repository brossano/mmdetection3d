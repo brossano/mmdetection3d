{
 "cells": [
  {
   "cell_type": "code",
   "execution_count": 11,
   "metadata": {
    "pycharm": {
     "is_executing": false
    }
   },
   "outputs": [
    {
     "name": "stdout",
     "output_type": "stream",
     "text": [
      "{'metainfo': {'DATASET': 'KITTI'}, 'data_list': [{'sample_id': 8, 'images': {'CAM0': {'cam2img': [[721.5377, 0.0, 609.5593, 0.0], [0.0, 721.5377, 172.854, 0.0], [0.0, 0.0, 1.0, 0.0], [0.0, 0.0, 0.0, 1.0]], 'lidar2img': [[609.6954175209152, -721.4215943316945, -1.2512579994207245, -167.89907838168253], [180.38420408453626, 7.644797969406144, -719.6515015339527, -101.2330630658172], [0.9999454021453857, 0.00012436544056981802, 0.010451302863657475, -0.2721327841281891], [0.0, 0.0, 0.0, 1.0]]}, 'CAM1': {'cam2img': [[721.5377, 0.0, 609.5593, -387.5744], [0.0, 721.5377, 172.854, 0.0], [0.0, 0.0, 1.0, 0.0], [0.0, 0.0, 0.0, 1.0]], 'lidar2img': [[609.6954175209152, -721.4215943316945, -1.2512579994207245, -555.4734783816825], [180.38420408453626, 7.644797969406144, -719.6515015339527, -101.2330630658172], [0.9999454021453857, 0.00012436544056981802, 0.010451302863657475, -0.2721327841281891], [0.0, 0.0, 0.0, 1.0]]}, 'CAM2': {'img_path': '000008.png', 'height': 375, 'width': 1242, 'cam2img': [[721.5377, 0.0, 609.5593, 44.85728], [0.0, 721.5377, 172.854, 0.2163791], [0.0, 0.0, 1.0, 0.002745884], [0.0, 0.0, 0.0, 1.0]], 'lidar2cam': [[0.00023477380455005914, -0.9999441504478455, -0.01056347694247961, -0.0027968171052634716], [0.010449407622218132, 0.01056535355746746, -0.999889612197876, -0.07510878890752792], [0.9999454021453857, 0.00012436544056981802, 0.010451302863657475, -0.2721327841281891], [0.0, 0.0, 0.0, 1.0]], 'lidar2img': [[609.6954175209152, -721.4215943316945, -1.2512579994207245, -123.04179838168253], [180.38420408453626, 7.644797969406144, -719.6515015339527, -101.01668396581721], [0.9999454021453857, 0.00012436544056981802, 0.010451302863657475, -0.2693869001281891], [0.0, 0.0, 0.0, 1.0]]}, 'CAM3': {'cam2img': [[721.5377, 0.0, 609.5593, -339.5242], [0.0, 721.5377, 172.854, 2.199936], [0.0, 0.0, 1.0, 0.002729905], [0.0, 0.0, 0.0, 1.0]], 'lidar2img': [[609.6954175209152, -721.4215943316945, -1.2512579994207245, -507.4232783816825], [180.38420408453626, 7.644797969406144, -719.6515015339527, -99.03312706581721], [0.9999454021453857, 0.00012436544056981802, 0.010451302863657475, -0.2694028791281891], [0.0, 0.0, 0.0, 1.0]]}, 'R0_rect': [[0.9999238848686218, 0.009837759658694267, -0.007445048075169325, 0.0], [-0.00986979529261589, 0.9999421238899231, -0.004278459120541811, 0.0], [0.007402527146041393, 0.0043516140431165695, 0.999963104724884, 0.0], [0.0, 0.0, 0.0, 1.0]]}, 'lidar_points': {'num_pts_feats': 4, 'lidar_path': '000008.bin', 'Tr_velo_to_cam': [[0.0075337449088692665, -0.9999713897705078, -0.00061660201754421, -0.004069766029715538], [0.01480249036103487, 0.0007280732970684767, -0.9998902082443237, -0.07631617784500122], [0.9998620748519897, 0.007523790001869202, 0.014807550236582756, -0.2717806100845337], [0.0, 0.0, 0.0, 1.0]], 'Tr_imu_to_velo': [[0.999997615814209, 0.0007553070900030434, -0.002035825978964567, -0.8086758852005005], [-0.0007854027207940817, 0.9998897910118103, -0.014822980388998985, 0.3195559084415436], [0.002024406101554632, 0.014824540354311466, 0.9998881220817566, -0.7997230887413025], [0.0, 0.0, 0.0, 1.0]]}, 'instances': [{'bbox': [0.0, 192.37, 402.31, 374.0], 'bbox_label': 2, 'bbox_3d': [-2.7, 1.74, 3.68, 3.23, 1.6, 1.57, -1.29], 'bbox_label_3d': 2, 'depth': 3.682745933532715, 'center_2d': [92.29086303710938, 356.9522705078125], 'num_lidar_pts': 1325, 'difficulty': -1, 'truncated': 0.88, 'occluded': 3, 'alpha': -0.69, 'score': 0.0, 'index': 0, 'group_id': 0}, {'bbox': [334.85, 178.94, 624.5, 372.04], 'bbox_label': 2, 'bbox_3d': [-1.17, 1.65, 7.86, 3.68, 1.57, 1.5, 1.9], 'bbox_label_3d': 2, 'depth': 7.862746238708496, 'center_2d': [507.68450927734375, 252.1992950439453], 'num_lidar_pts': 1900, 'difficulty': 1, 'truncated': 0.0, 'occluded': 1, 'alpha': 2.04, 'score': 0.0, 'index': 1, 'group_id': 1}, {'bbox': [937.29, 197.39, 1241.0, 374.0], 'bbox_label': 2, 'bbox_3d': [3.81, 1.64, 6.15, 3.08, 1.39, 1.44, -1.31], 'bbox_label_3d': 2, 'depth': 6.152746200561523, 'center_2d': [1063.3797607421875, 283.6329650878906], 'num_lidar_pts': 881, 'difficulty': -1, 'truncated': 0.34, 'occluded': 3, 'alpha': -1.84, 'score': 0.0, 'index': 2, 'group_id': 2}, {'bbox': [597.59, 176.18, 720.9, 261.14], 'bbox_label': 2, 'bbox_3d': [1.07, 1.55, 14.44, 3.66, 1.47, 1.6, -1.25], 'bbox_label_3d': 2, 'depth': 14.442745208740234, 'center_2d': [666.0049438476562, 213.5522918701172], 'num_lidar_pts': 659, 'difficulty': 1, 'truncated': 0.0, 'occluded': 1, 'alpha': -1.33, 'score': 0.0, 'index': 3, 'group_id': 3}, {'bbox': [741.18, 168.83, 792.25, 208.43], 'bbox_label': 2, 'bbox_3d': [7.24, 1.55, 33.2, 4.08, 1.7, 1.63, 1.95], 'bbox_label_3d': 2, 'depth': 33.2027473449707, 'center_2d': [768.1942749023438, 188.05809020996094], 'num_lidar_pts': 55, 'difficulty': 1, 'truncated': 0.0, 'occluded': 0, 'alpha': 1.74, 'score': 0.0, 'index': 4, 'group_id': 4}, {'bbox': [884.52, 178.31, 956.41, 240.18], 'bbox_label': 2, 'bbox_3d': [8.48, 1.75, 19.96, 2.47, 1.59, 1.59, -1.25], 'bbox_label_3d': 2, 'depth': 19.962745666503906, 'center_2d': [918.2254028320312, 207.35877990722656], 'num_lidar_pts': 162, 'difficulty': 0, 'truncated': 0.0, 'occluded': 0, 'alpha': -1.65, 'score': 0.0, 'index': 5, 'group_id': 5}, {'bbox': [800.38, 163.67, 825.45, 184.07], 'bbox_label': -1, 'bbox_3d': [-1000.0, -1000.0, -1000.0, -1.0, -1.0, -1.0, -10.0], 'bbox_label_3d': -1, 'depth': -999.9972534179688, 'center_2d': [1331.055908203125, 894.033203125], 'num_lidar_pts': -1, 'difficulty': -1, 'truncated': -1.0, 'occluded': -1, 'alpha': -10.0, 'score': 0.0, 'index': -1, 'group_id': 6}, {'bbox': [859.58, 172.34, 886.26, 194.51], 'bbox_label': -1, 'bbox_3d': [-1000.0, -1000.0, -1000.0, -1.0, -1.0, -1.0, -10.0], 'bbox_label_3d': -1, 'depth': -999.9972534179688, 'center_2d': [1331.055908203125, 894.033203125], 'num_lidar_pts': -1, 'difficulty': -1, 'truncated': -1.0, 'occluded': -1, 'alpha': -10.0, 'score': 0.0, 'index': -1, 'group_id': 7}, {'bbox': [801.81, 163.96, 825.2, 183.59], 'bbox_label': -1, 'bbox_3d': [-1000.0, -1000.0, -1000.0, -1.0, -1.0, -1.0, -10.0], 'bbox_label_3d': -1, 'depth': -999.9972534179688, 'center_2d': [1331.055908203125, 894.033203125], 'num_lidar_pts': -1, 'difficulty': -1, 'truncated': -1.0, 'occluded': -1, 'alpha': -10.0, 'score': 0.0, 'index': -1, 'group_id': 8}, {'bbox': [826.87, 162.28, 845.84, 178.86], 'bbox_label': -1, 'bbox_3d': [-1000.0, -1000.0, -1000.0, -1.0, -1.0, -1.0, -10.0], 'bbox_label_3d': -1, 'depth': -999.9972534179688, 'center_2d': [1331.055908203125, 894.033203125], 'num_lidar_pts': -1, 'difficulty': -1, 'truncated': -1.0, 'occluded': -1, 'alpha': -10.0, 'score': 0.0, 'index': -1, 'group_id': 9}]}]}\n"
     ]
    }
   ],
   "source": [
    "import pickle\n",
    "\n",
    "import json\n",
    "with open('data/kitti/000008.pkl', \"rb\") as f:\n",
    "    l = pickle.load(f)\n",
    "    print(l)\n",
    "\n",
    "\n",
    "\n",
    "# from mmdet3d.apis import LidarDet3DInferencer"
   ]
  },
  {
   "cell_type": "code",
   "execution_count": null,
   "metadata": {},
   "outputs": [],
   "source": [
    "# initialize inferencer\n",
    "inferencer = LidarDet3DInferencer('pointpillars_kitti-3class')"
   ]
  },
  {
   "cell_type": "code",
   "execution_count": null,
   "metadata": {
    "pycharm": {
     "is_executing": false
    }
   },
   "outputs": [],
   "source": [
    "# inference\n",
    "inputs = dict(points='./data/kitti/000008.bin')\n",
    "inferencer(inputs)"
   ]
  },
  {
   "cell_type": "code",
   "execution_count": null,
   "metadata": {},
   "outputs": [],
   "source": [
    "# inference and visualize\n",
    "# NOTE: use the `Esc` key to exit Open3D window in Jupyter Notebook Environment\n",
    "inferencer(inputs, show=True)"
   ]
  },
  {
   "cell_type": "code",
   "execution_count": null,
   "metadata": {},
   "outputs": [],
   "source": [
    "# If your operating environment does not have a display device,\n",
    "# (e.g. a remote server), you can save the predictions and visualize\n",
    "# them in local devices.\n",
    "inferencer(inputs, show=False, out_dir='./remote_outputs')\n",
    "\n",
    "# Simulate the migration process\n",
    "%mv ./remote_outputs ./local_outputs\n",
    "\n",
    "# Visualize the predictions from the saved files\n",
    "# NOTE: use the `Esc` key to exit Open3D window in Jupyter Notebook Environment\n",
    "local_inferencer = LidarDet3DInferencer('pointpillars_kitti-3class')\n",
    "inputs = local_inferencer._inputs_to_list(inputs)\n",
    "local_inferencer.visualize_preds_fromfile(inputs, ['local_outputs/preds/000008.json'], show=True)"
   ]
  }
 ],
 "metadata": {
  "interpreter": {
   "hash": "a0c343fece975dd89087e8c2194dd4d3db28d7000f1b32ed9ed9d584dd54dbbe"
  },
  "kernelspec": {
   "display_name": "Python 3 (ipykernel)",
   "language": "python",
   "name": "python3"
  },
  "language_info": {
   "codemirror_mode": {
    "name": "ipython",
    "version": 3
   },
   "file_extension": ".py",
   "mimetype": "text/x-python",
   "name": "python",
   "nbconvert_exporter": "python",
   "pygments_lexer": "ipython3",
   "version": "3.8.18"
  },
  "pycharm": {
   "stem_cell": {
    "cell_type": "raw",
    "metadata": {
     "collapsed": false
    },
    "source": []
   }
  }
 },
 "nbformat": 4,
 "nbformat_minor": 4
}
